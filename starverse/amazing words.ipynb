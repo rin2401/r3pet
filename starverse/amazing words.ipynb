{
 "cells": [
  {
   "cell_type": "code",
   "execution_count": 11,
   "metadata": {},
   "outputs": [],
   "source": [
    "import requests\n",
    "\n",
    "def get_user_token(address):\n",
    "    url = f\"https://scan.testnet.verichains.xyz/api?module=account&action=tokenbalance&address={address}&contractaddress=0x82a29828a3B5c16ed13Dc7840D0699746D2a741C\"\n",
    "    payload = \"\"\n",
    "    headers = {}\n",
    "\n",
    "    res = requests.request(\"GET\", url, headers=headers, data=payload).json()\n",
    "\n",
    "    return int(res[\"result\"])"
   ]
  },
  {
   "cell_type": "code",
   "execution_count": 15,
   "metadata": {},
   "outputs": [],
   "source": [
    "import requests\n",
    "import json\n",
    "import pandas as pd\n",
    "\n",
    "def get_tshirt(id):\n",
    "    url = \"https://api.yoverse.io/marketplace/rpc\"\n",
    "\n",
    "    payload = json.dumps({\n",
    "        \"jsonrpc\": \"2.0\",\n",
    "        \"method\": \"vmp_listNFTBidding\",\n",
    "        \"params\": {\n",
    "            \"offset\": 0,\n",
    "            \"limit\": 10,\n",
    "            \"contractAddress\": \"0x5AF3a83b777cb1a862Efe672AFb645E32cEb7ff1\",\n",
    "            \"tokenId\": str(id)\n",
    "        },\n",
    "        \"id\": 1\n",
    "    })\n",
    "    headers = {}\n",
    "\n",
    "    res = requests.request(\"POST\", url, headers=headers, data=payload).json()\n",
    "\n",
    "    bids = res[\"result\"][\"data\"]\n",
    "    if not bids:\n",
    "        print(id, None)\n",
    "        return\n",
    "    bid = bids[0]\n",
    "    price = int(bid[\"bidPrice\"]) / 10**18\n",
    "    address = bid[\"bidderAddress\"]\n",
    "    username = bid[\"bidderUserName\"]\n",
    "    star = get_user_token(address) / 10**18\n",
    "    # df = pd.read_csv(\"starverse_users.csv\")\n",
    "    # lookup = dict(zip(df[\"address\"], df[\"username\"]))\n",
    "    print(id, username, price, star)\n",
    "\n",
    "get_tshirt(1)"
   ]
  },
  {
   "cell_type": "code",
   "execution_count": 19,
   "metadata": {},
   "outputs": [],
   "source": [
    "\n",
    "import requests\n",
    "import json\n",
    "from collections import Counter\n",
    "\n",
    "def get_min_price(c, k=1):\n",
    "    url = \"https://api.yoverse.io/marketplace/rpc\"\n",
    "\n",
    "    c_value = str(ord(c) - 65)\n",
    "\n",
    "    payload = json.dumps({\n",
    "        \"jsonrpc\": \"2.0\",\n",
    "        \"id\": 1,\n",
    "        \"method\": \"vmp_searchNFT\",\n",
    "        \"params\": {\n",
    "            \"saleTypes\": [\n",
    "                \"BUY_NOW\"\n",
    "            ],\n",
    "            \"contractAddress\": [\n",
    "                \"0xd390b879e73EB4F64E037Bd9a054995D7553FC65\"\n",
    "            ],\n",
    "            \"limit\": 10,\n",
    "            \"sort\": {\n",
    "                \"sortType\": \"price\",\n",
    "                \"sortField\": \"PRICE_LOW_TO_HIGH\",\n",
    "                \"sortCurrency\": \"STAR\"\n",
    "            },\n",
    "            \"attrs\": [\n",
    "                {\n",
    "                    \"traitType\": \"Character\",\n",
    "                    \"value\": [\n",
    "                        c_value\n",
    "                    ]\n",
    "                }\n",
    "            ]\n",
    "        }\n",
    "    })\n",
    "    headers = {}\n",
    "\n",
    "    res = requests.request(\"POST\", url, headers=headers, data=payload).json()\n",
    "\n",
    "    stars = []\n",
    "\n",
    "    for a in res[\"result\"][\"data\"][:k]:\n",
    "        stars.append(a[\"prices\"][\"STAR\"])\n",
    "\n",
    "    return stars\n",
    "\n",
    "\n",
    "def get_text_price(text):\n",
    "    print(text)\n",
    "    s = 0\n",
    "    for c, k in sorted(Counter(text).items()):\n",
    "        cs = get_min_price(c, k)\n",
    "        print(c, cs)\n",
    "        s += sum(cs)\n",
    "    print(s)\n"
   ]
  },
  {
   "cell_type": "code",
   "execution_count": 23,
   "metadata": {},
   "outputs": [
    {
     "name": "stdout",
     "output_type": "stream",
     "text": [
      "EMBRACINGCHALLENGES\n",
      "A [189, 199]\n",
      "B [99]\n",
      "C [150, 150]\n",
      "E [399, 400, 450]\n",
      "G [250, 299]\n",
      "H [400]\n",
      "I [400]\n",
      "L [100.1, 130]\n",
      "M [100]\n",
      "N [649, 700]\n",
      "R [200]\n",
      "S [60]\n",
      "5324.1\n",
      "ADVANCINGPARTNERSHIP\n",
      "A [189, 199, 200]\n",
      "C [150]\n",
      "D [140]\n",
      "E [399]\n",
      "G [250]\n",
      "H [400]\n",
      "I [400, 490]\n",
      "N [649, 700, 700]\n",
      "P [199, 220]\n",
      "R [200, 200]\n",
      "S [60]\n",
      "T [300]\n",
      "V [99]\n",
      "6144\n",
      "UPHOLDINGINTEGRITY\n",
      "D [140]\n",
      "E [399]\n",
      "G [250, 299]\n",
      "H [400]\n",
      "I [400, 490, 500]\n",
      "L [100.1]\n",
      "N [649, 700]\n",
      "O [199]\n",
      "P [199]\n",
      "R [200]\n",
      "T [300, 350]\n",
      "U [99]\n",
      "Y [200]\n",
      "5874.1\n"
     ]
    }
   ],
   "source": [
    "text = \"EMBRACINGCHALLENGES\"\n",
    "# text = \"ADVANCINGPARTNERSHIP\"\n",
    "# text = \"UPHOLDINGINTEGRITY\"\n",
    "texts = [\n",
    "    \"EMBRACINGCHALLENGES\",\n",
    "    \"ADVANCINGPARTNERSHIP\",\n",
    "    \"UPHOLDINGINTEGRITY\"\n",
    "]\n",
    "\n",
    "for text in texts:\n",
    "    get_text_price(text)    "
   ]
  },
  {
   "cell_type": "code",
   "execution_count": 24,
   "metadata": {},
   "outputs": [
    {
     "data": {
      "text/plain": [
       "15"
      ]
     },
     "execution_count": 24,
     "metadata": {},
     "output_type": "execute_result"
    }
   ],
   "source": [
    "ord(\"P\") - 65"
   ]
  },
  {
   "cell_type": "code",
   "execution_count": 2,
   "metadata": {},
   "outputs": [
    {
     "data": {
      "text/plain": [
       "'0x10671C'"
      ]
     },
     "execution_count": 2,
     "metadata": {},
     "output_type": "execute_result"
    }
   ],
   "source": [
    "import requests\n",
    "import json\n",
    "\n",
    "def get_username(address):\n",
    "    url = \"https://api.yoverse.io/marketplace/rpc\"\n",
    "\n",
    "    payload = json.dumps({\n",
    "        \"jsonrpc\": \"2.0\",\n",
    "        \"method\": \"vmp_getProfile\",\n",
    "        \"params\": {\n",
    "            \"walletAddress\": address\n",
    "        },\n",
    "        \"id\": 1\n",
    "    })\n",
    "    headers = {}\n",
    "    res = requests.request(\"POST\", url, headers=headers, data=payload).json()\n",
    "\n",
    "    return res[\"result\"][\"data\"][\"username\"]\n",
    "\n",
    "get_username(\"0x10671C115BC5a74bc938B01E9c237f4a2EcD64b6\")\n"
   ]
  },
  {
   "cell_type": "code",
   "execution_count": 32,
   "metadata": {},
   "outputs": [
    {
     "data": {
      "text/plain": [
       "'ABCDEFGHIJKLMNOPQRSTUVWXYZ'"
      ]
     },
     "execution_count": 32,
     "metadata": {},
     "output_type": "execute_result"
    }
   ],
   "source": [
    "import string\n",
    "string.ascii_uppercase"
   ]
  },
  {
   "cell_type": "code",
   "execution_count": 7,
   "metadata": {},
   "outputs": [],
   "source": [
    "import requests\n",
    "\n",
    "def get_token_holders(size=10):\n",
    "    url = f\"https://scan.testnet.verichains.xyz/api?module=token&action=getTokenHolders&contractaddress=0x82a29828a3B5c16ed13Dc7840D0699746D2a741C&offset={size}\"\n",
    "\n",
    "    payload = \"\"\n",
    "    headers = {}\n",
    "\n",
    "    res = requests.request(\"GET\", url, headers=headers, data=payload).json()\n",
    "\n",
    "    return res[\"result\"]\n"
   ]
  },
  {
   "cell_type": "code",
   "execution_count": 15,
   "metadata": {},
   "outputs": [],
   "source": [
    "import tqdm\n",
    "\n",
    "def get_user(size=10):\n",
    "    holders = get_token_holders(size)\n",
    "    print(len(holders))\n",
    "    for h in tqdm.tqdm(holders):\n",
    "        h[\"star\"] = int(h[\"value\"])/10**18\n",
    "        h[\"username\"] = get_username(h[\"address\"])\n",
    "        h.pop(\"value\")\n",
    "    \n",
    "    return holders"
   ]
  },
  {
   "cell_type": "code",
   "execution_count": 16,
   "metadata": {},
   "outputs": [
    {
     "name": "stderr",
     "output_type": "stream",
     "text": [
      "  0%|          | 0/1429 [00:00<?, ?it/s]"
     ]
    },
    {
     "name": "stdout",
     "output_type": "stream",
     "text": [
      "1429\n"
     ]
    },
    {
     "name": "stderr",
     "output_type": "stream",
     "text": [
      "100%|██████████| 1429/1429 [03:31<00:00,  6.76it/s]\n"
     ]
    }
   ],
   "source": [
    "users = get_user(3000)"
   ]
  },
  {
   "cell_type": "code",
   "execution_count": 29,
   "metadata": {},
   "outputs": [],
   "source": [
    "import pandas as pd\n",
    "\n",
    "def update_user():\n",
    "    size = 3000\n",
    "\n",
    "    df = pd.read_csv(\"starverse_users.csv\")\n",
    "\n",
    "    lookup = dict(zip(df[\"address\"], df[\"username\"]))\n",
    "    \n",
    "    holders = get_token_holders(size)\n",
    "    print(len(holders))\n",
    "    for h in tqdm.tqdm(holders):\n",
    "        h[\"star\"] = int(h[\"value\"])/10**18\n",
    "        h[\"username\"] = lookup.get(h[\"address\"])\n",
    "        if not h[\"username\"]:\n",
    "            h[\"username\"] = get_username(h[\"address\"])\n",
    "        h.pop(\"value\")\n",
    "\n",
    "    df = pd.DataFrame(holders)\n",
    "    df.to_csv(\"starverse_users.csv\", encoding=\"utf-8-sig\", index=False)\n",
    "    \n",
    "    return holders"
   ]
  },
  {
   "cell_type": "code",
   "execution_count": 30,
   "metadata": {},
   "outputs": [
    {
     "name": "stderr",
     "output_type": "stream",
     "text": [
      "100%|██████████| 1429/1429 [00:00<00:00, 178840.50it/s]"
     ]
    },
    {
     "name": "stdout",
     "output_type": "stream",
     "text": [
      "1429\n"
     ]
    },
    {
     "name": "stderr",
     "output_type": "stream",
     "text": [
      "\n"
     ]
    },
    {
     "data": {
      "text/plain": [
       "1429"
      ]
     },
     "execution_count": 30,
     "metadata": {},
     "output_type": "execute_result"
    }
   ],
   "source": [
    "users = update_user()\n",
    "len(users)"
   ]
  },
  {
   "cell_type": "code",
   "execution_count": 20,
   "metadata": {},
   "outputs": [],
   "source": [
    "import pandas as pd\n",
    "df = pd.DataFrame(users)\n",
    "df.to_csv(\"starverse_users.csv\", encoding=\"utf-8-sig\", index=False)"
   ]
  },
  {
   "cell_type": "code",
   "execution_count": 25,
   "metadata": {},
   "outputs": [
    {
     "data": {
      "text/plain": [
       "354"
      ]
     },
     "execution_count": 25,
     "metadata": {},
     "output_type": "execute_result"
    }
   ],
   "source": [
    "len([u for u in users if u[\"username\"].lower() in u[\"address\"].lower()])"
   ]
  },
  {
   "cell_type": "code",
   "execution_count": 24,
   "metadata": {},
   "outputs": [
    {
     "data": {
      "text/plain": [
       "1429"
      ]
     },
     "execution_count": 24,
     "metadata": {},
     "output_type": "execute_result"
    }
   ],
   "source": [
    "len(users)"
   ]
  },
  {
   "cell_type": "code",
   "execution_count": null,
   "metadata": {},
   "outputs": [],
   "source": []
  }
 ],
 "metadata": {
  "kernelspec": {
   "display_name": "python3",
   "language": "python",
   "name": "python3"
  },
  "language_info": {
   "codemirror_mode": {
    "name": "ipython",
    "version": 3
   },
   "file_extension": ".py",
   "mimetype": "text/x-python",
   "name": "python",
   "nbconvert_exporter": "python",
   "pygments_lexer": "ipython3",
   "version": "3.7.6"
  },
  "vscode": {
   "interpreter": {
    "hash": "945aaf29c3a75fea9f3005294253f798b08e6a735bd4af7c3b9601730e9c82df"
   }
  }
 },
 "nbformat": 4,
 "nbformat_minor": 4
}
